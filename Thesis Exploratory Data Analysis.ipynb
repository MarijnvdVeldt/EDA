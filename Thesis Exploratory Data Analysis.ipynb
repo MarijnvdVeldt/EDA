{
 "cells": [
  {
   "cell_type": "markdown",
   "id": "5e25ea09-74d6-47e6-bad6-e922f52c3532",
   "metadata": {},
   "source": [
    "# Personal Information\n",
    "Name:\n",
    "\n",
    "StudentID: \n",
    "\n",
    "Email: \n",
    "\n",
    "Submitted on: **22.03.2024**"
   ]
  },
  {
   "cell_type": "markdown",
   "id": "e3cf6243-adfe-4eb8-bba3-bb2835079abd",
   "metadata": {},
   "source": [
    "# Data Context\n",
    "\n",
    "The data used here is a collection of 949 EPUB files provided through the supervisor of the thesis. The data has been gathered from https://www.standardebooks.org. The EPUB files are books that are in the public domain in the USA, meaning there is no copyright on the books anymore. This does however mean that it a sample of older books that have been published on paper, and later have been adapted to EPUB format by the Internet Archive. The main use of the data is to learn about which violations of the WCAG 2.1 standard occur in EPUB files, such that a repair tool can be created to fix the errors and make EPUB files compliant through software. The checking for errors is done with the ACE tool created by the DAISY Consortium.\n",
    "\n",
    "However, as these books have only been adapted to EPUB form recently by the Internet Archive they might not be a good representative sample of EPUB files. Books that are published only in EPUB form or both on paper and in EPUB form in more recent years by independent authors or different publishing companies could create more variety in the data and the types of errors that can occur. Therefore this data set is a current place holder and hopefully gets expanded by previously mentioned types of EPUB files. The data analysis will be generalized to also be applicable to new data. When a better dataset is found this analysis will be applied to it as well, therefore this analysis is in some sense a placeholder."
   ]
  },
  {
   "cell_type": "code",
   "execution_count": 1,
   "id": "534317db-d881-4e33-a358-754e2881e8bd",
   "metadata": {},
   "outputs": [],
   "source": [
    "# Imports\n",
    "import os\n",
    "import numpy as np\n",
    "import json\n",
    "import pandas as pd\n",
    "import seaborn as sns\n",
    "import zipfile\n",
    "import re"
   ]
  },
  {
   "cell_type": "markdown",
   "id": "b582b299-f599-4140-a454-bcbfdeeb273f",
   "metadata": {},
   "source": [
    "### Data Loading"
   ]
  },
  {
   "cell_type": "markdown",
   "id": "6e06e0cd-57ef-4450-85cb-f0be6c0847e0",
   "metadata": {},
   "source": [
    "Create a dataframe of all the path files of the EPUB files"
   ]
  },
  {
   "cell_type": "code",
   "execution_count": 2,
   "id": "e3e0b61b-69d6-4f8b-b437-323a8bc8749f",
   "metadata": {},
   "outputs": [
    {
     "name": "stdout",
     "output_type": "stream",
     "text": [
      "(949, 1)\n"
     ]
    }
   ],
   "source": [
    "folder_path = 'D:/Documenten/Data Science/thesis/data/wetransfer_standardebooks-epub_2024-02-25_1759/standardebooks - epub'\n",
    "files_in_folder = [os.path.join(folder_path, f) for f in os.listdir(folder_path) if os.path.isfile(os.path.join(folder_path, f))]\n",
    "df = pd.DataFrame({'File_Paths': files_in_folder})\n",
    "\n",
    "print(df.shape)\n",
    "# df.head()"
   ]
  },
  {
   "cell_type": "markdown",
   "id": "96e84ecd-e954-4120-ad03-6aba2d2a8ccc",
   "metadata": {},
   "source": [
    "As EPUB files are actually a zip file this code opens the zip files and extracts the date and the publisher for every EPUB and adds it to the path files dataframe"
   ]
  },
  {
   "cell_type": "code",
   "execution_count": 3,
   "id": "7f4db2d0-7bc5-473a-bea6-234cf524d383",
   "metadata": {},
   "outputs": [],
   "source": [
    "data = []\n",
    "\n",
    "for zip_file_path in df.File_Paths:\n",
    "    with zipfile.ZipFile(zip_file_path, 'r') as zip_ref:\n",
    "        file_path = \"epub/content.opf\"    \n",
    "        with zip_ref.open(file_path) as file:\n",
    "            content = file.read()\n",
    "            content_str = content.decode(\"utf-8\")\n",
    "            date_pattern = r'<dc:date>(.*?)</dc:date>'\n",
    "            publisher_pattern = r'<dc:publisher id=\"publisher\">(.*?)</dc:publisher>\n",
    "            date_info = re.findall(date_pattern, content_str)\n",
    "            publisher_info = re.findall(publisher_pattern, content_str)\n",
    "            date_info = [date[:10] for date in date_info]\n",
    "            for date, publisher in zip(date_info, publisher_info):\n",
    "                data.append({\"Date\": date, \"Publisher\": publisher})\n",
    "\n",
    "df_data = pd.DataFrame(data)\n",
    "df = df.join(df_data)\n",
    "\n",
    "pd.set_option('display.max_colwidth', None)\n",
    "# df.head(3)\n"
   ]
  },
  {
   "cell_type": "markdown",
   "id": "0a963bc2-b321-4761-88f4-dbf53e3aaf15",
   "metadata": {},
   "source": [
    "Check the range of dates in which the EPUB files were created"
   ]
  },
  {
   "cell_type": "code",
   "execution_count": 4,
   "id": "fdecb3d8-9a26-47fb-8276-ff641150f20c",
   "metadata": {},
   "outputs": [
    {
     "data": {
      "text/plain": [
       "('2014-05-25', '2024-02-24')"
      ]
     },
     "execution_count": 4,
     "metadata": {},
     "output_type": "execute_result"
    }
   ],
   "source": [
    "df.Date.min(), df.Date.max()"
   ]
  },
  {
   "cell_type": "markdown",
   "id": "002961b4-d0c8-48b4-acf8-3f1c93622327",
   "metadata": {},
   "source": [
    "Check how many unique publisheres there are"
   ]
  },
  {
   "cell_type": "code",
   "execution_count": 5,
   "id": "70ca553b-4741-49c0-bde1-d4e7a1f28f21",
   "metadata": {},
   "outputs": [
    {
     "data": {
      "text/plain": [
       "count                 949\n",
       "unique                  1\n",
       "top       Standard Ebooks\n",
       "freq                  949\n",
       "Name: Publisher, dtype: object"
      ]
     },
     "execution_count": 5,
     "metadata": {},
     "output_type": "execute_result"
    }
   ],
   "source": [
    "df.Publisher.describe()"
   ]
  },
  {
   "cell_type": "markdown",
   "id": "c6ade591-7ce7-4812-8371-d8f83e194896",
   "metadata": {},
   "source": [
    "### Run ACE EPUB compliance checker"
   ]
  },
  {
   "cell_type": "markdown",
   "id": "58c448ff-ebe0-4e64-9bf6-362a3987cd43",
   "metadata": {},
   "source": [
    "Using the os library to run the ACE EPUB checker by the DAISY Consortium on every EPUB in the command line"
   ]
  },
  {
   "cell_type": "code",
   "execution_count": null,
   "id": "2f431713-bdac-4a71-83eb-e012968f08ba",
   "metadata": {},
   "outputs": [],
   "source": [
    "for file_path in df['File_Paths']:\n",
    "    command = f'ace --subdir --outdir \"D:/Documenten/Data Science/thesis/ePubs/results\" \"{file_path}\"'\n",
    "    os.system(command)"
   ]
  },
  {
   "cell_type": "markdown",
   "id": "7fcf6ee7-2280-4526-ae39-e3cf70db2690",
   "metadata": {},
   "source": [
    "### Gather ACE results"
   ]
  },
  {
   "cell_type": "markdown",
   "id": "e8c90de7-565b-4811-8655-1db7fc15a463",
   "metadata": {},
   "source": [
    "ACE outputs the results as a .json file in a directory for every EPUB file. This code runs through all the directories and stores the file paths for the results in a new dataframe"
   ]
  },
  {
   "cell_type": "code",
   "execution_count": 6,
   "id": "70b173d1-a626-4911-b414-213fc2948713",
   "metadata": {},
   "outputs": [],
   "source": [
    "folder_path = \"D:/Documenten/Data Science/thesis/ePubs/results\"\n",
    "files_in_folder = os.listdir(folder_path)\n",
    "checked_df = pd.DataFrame({'File_Paths': files_in_folder})\n",
    "\n",
    "# checked_df.head()"
   ]
  },
  {
   "cell_type": "markdown",
   "id": "34934190-25a3-44df-b7f5-22d2166640a0",
   "metadata": {},
   "source": [
    "Run through all the .json files and gather the metadata and extract the instances where there are errors and the EPUB did not pass the ACE check. Gather all metadata in metadf and errors in errorsdf"
   ]
  },
  {
   "cell_type": "code",
   "execution_count": 7,
   "id": "da8677c9-a727-4736-9dc0-49d7d5a166ec",
   "metadata": {},
   "outputs": [],
   "source": [
    "metadata=dict()\n",
    "data=[]\n",
    "\n",
    "for epubid in list(checked_df.File_Paths):\n",
    "    ff='D:/Documenten/Data Science/thesis/ePubs/results/'+epubid+'/report.json'\n",
    "    try:\n",
    "        with open(ff) as f:\n",
    "            d = json.load(f)\n",
    "            metadata[epubid]=d['earl:testSubject']['metadata']\n",
    "            A=d['assertions']\n",
    "            errors= [ a['earl:test'] | {'epubID': epubid} \n",
    "                for d in A if d['earl:result']['earl:outcome']=='fail'\n",
    "                    for a in d['assertions'] if a['earl:result']['earl:outcome']=='fail'\n",
    "                    ]\n",
    "            data= data+errors\n",
    "            \n",
    "    except:\n",
    "        pass\n",
    "# make dataframes        \n",
    "metadf=pd.DataFrame.from_dict(metadata, orient='index')\n",
    "errordf=pd.DataFrame(data)"
   ]
  },
  {
   "cell_type": "markdown",
   "id": "eeeba396-eadc-44c6-b3d6-e8d878ed1499",
   "metadata": {},
   "source": [
    "# Analysis of results"
   ]
  },
  {
   "cell_type": "markdown",
   "id": "b4df9546-a6d7-4678-aca6-cd13d5f3c79a",
   "metadata": {},
   "source": [
    "Show the shapes of metadf and errordf as well as the head for both"
   ]
  },
  {
   "cell_type": "code",
   "execution_count": 8,
   "id": "a889a6c7-aed8-4a0f-9925-c4f8e2fce1d5",
   "metadata": {},
   "outputs": [
    {
     "data": {
      "text/plain": [
       "((684, 31), (1861, 6))"
      ]
     },
     "execution_count": 8,
     "metadata": {},
     "output_type": "execute_result"
    }
   ],
   "source": [
    "metadf.shape, errordf.shape"
   ]
  },
  {
   "cell_type": "code",
   "execution_count": 9,
   "id": "ea41723a-f58f-427a-91c8-d90c7eb0efcc",
   "metadata": {},
   "outputs": [],
   "source": [
    "# errordf.head()"
   ]
  },
  {
   "cell_type": "code",
   "execution_count": 10,
   "id": "3c9742fd-e175-42b2-90a5-fb66001a31b4",
   "metadata": {},
   "outputs": [],
   "source": [
    "pd.set_option('display.max_colwidth', 50)\n",
    "# metadf.head(3)"
   ]
  },
  {
   "cell_type": "markdown",
   "id": "306a352c-5162-4da9-9160-8e7550fe6020",
   "metadata": {},
   "source": [
    "Show the books with errors and show which errors they have and how many occurences of the error."
   ]
  },
  {
   "cell_type": "code",
   "execution_count": 11,
   "id": "48454350-b5f5-4ea1-81c3-6d9d413d10df",
   "metadata": {},
   "outputs": [],
   "source": [
    "ER=errordf.groupby('epubID')['dct:title'].value_counts()\n",
    "# ER"
   ]
  },
  {
   "cell_type": "markdown",
   "id": "392c8a29-f64d-461d-b269-dddb5d7adcb3",
   "metadata": {},
   "source": [
    "In total the dataset contains 1841 serious violations of WCAG 2.1 and 20 minor according to ACE"
   ]
  },
  {
   "cell_type": "code",
   "execution_count": 12,
   "id": "6621b5a9-fac9-4da0-9e21-80b8e179836b",
   "metadata": {},
   "outputs": [
    {
     "data": {
      "text/plain": [
       "earl:impact\n",
       "serious    1841\n",
       "minor        20\n",
       "Name: count, dtype: int64"
      ]
     },
     "execution_count": 12,
     "metadata": {},
     "output_type": "execute_result"
    }
   ],
   "source": [
    "errordf['earl:impact'].value_counts()"
   ]
  },
  {
   "cell_type": "markdown",
   "id": "573450c2-1763-4372-9ffa-b9bb8ba6da45",
   "metadata": {},
   "source": [
    "The unique errors that occur in the data"
   ]
  },
  {
   "cell_type": "code",
   "execution_count": 13,
   "id": "590a2613-633d-448e-ac1f-1a41cb731fb7",
   "metadata": {},
   "outputs": [
    {
     "data": {
      "text/plain": [
       "earl:impact  dct:title                  \n",
       "minor        epub-type-has-matching-role      20\n",
       "serious      valid-lang                     1840\n",
       "             epub-toc-order                    1\n",
       "Name: count, dtype: int64"
      ]
     },
     "execution_count": 13,
     "metadata": {},
     "output_type": "execute_result"
    }
   ],
   "source": [
    "E=errordf.groupby('earl:impact')['dct:title'].value_counts()\n",
    "E"
   ]
  },
  {
   "cell_type": "markdown",
   "id": "c2b796dc-f69d-4686-b802-bd0d8f679ee8",
   "metadata": {},
   "source": [
    "Plot the number of books (y-axis) with an x number of errors (x-axis). Here it can be seen that there are two outliers in this data set. These EPUB files will not be removed as they contain the same error many times. An automatic repair program should be capable to fix such errors, which is why these outliers are important as well"
   ]
  },
  {
   "cell_type": "code",
   "execution_count": 14,
   "id": "c33b453f-1bc2-4cad-8021-e548d307f154",
   "metadata": {},
   "outputs": [
    {
     "data": {
      "text/plain": [
       "count     48.000000\n",
       "mean      38.770833\n",
       "std      119.511459\n",
       "min        1.000000\n",
       "25%        3.000000\n",
       "50%        8.000000\n",
       "75%       16.500000\n",
       "max      767.000000\n",
       "Name: earl:impact, dtype: float64"
      ]
     },
     "execution_count": 14,
     "metadata": {},
     "output_type": "execute_result"
    },
    {
     "data": {
      "image/png": "[encoded data removed]",
      "text/plain": [
       "<Figure size 640x480 with 1 Axes>"
      ]
     },
     "metadata": {},
     "output_type": "display_data"
    }
   ],
   "source": [
    "aantalfoutenperbook=errordf.groupby('epubID')['earl:impact'].count()\n",
    "sns.histplot(aantalfoutenperbook)\n",
    "aantalfoutenperbook.describe()"
   ]
  },
  {
   "cell_type": "code",
   "execution_count": 15,
   "id": "b8e7fcf1-0aa0-4b50-83e6-9708c64eab37",
   "metadata": {},
   "outputs": [
    {
     "name": "stdout",
     "output_type": "stream",
     "text": [
      "5.338457457853851\n",
      "30.991940813817667\n"
     ]
    }
   ],
   "source": [
    "print(aantalfoutenperbook.skew())\n",
    "print(aantalfoutenperbook.kurtosis())"
   ]
  },
  {
   "cell_type": "markdown",
   "id": "f273bea3-ecaa-4fac-83d0-5fe547b7873d",
   "metadata": {},
   "source": [
    "Show the amount of errors and impact of errors per publisher. As this dataset contains only one publisher as mentioned before this is currently not useful information, but can be applied to new data "
   ]
  },
  {
   "cell_type": "code",
   "execution_count": 16,
   "id": "60074a1b-1ae5-46e8-971f-100199861c9c",
   "metadata": {},
   "outputs": [],
   "source": [
    "medf=pd.merge(errordf,metadf, left_on='epubID', right_index=True)"
   ]
  },
  {
   "cell_type": "code",
   "execution_count": 17,
   "id": "4def192f-813d-47d5-8026-a20e1fbc0888",
   "metadata": {},
   "outputs": [],
   "source": [
    "medf2=medf.dropna(subset=['dc:publisher'])\n",
    "medf2['dc:publisher'] = medf2['dc:publisher'].astype(str)"
   ]
  },
  {
   "cell_type": "code",
   "execution_count": 18,
   "id": "42fdd799-895a-4400-b180-1e56a225b657",
   "metadata": {},
   "outputs": [
    {
     "data": {
      "text/html": [
       "<div>\n",
       "<style scoped>\n",
       "    .dataframe tbody tr th:only-of-type {\n",
       "        vertical-align: middle;\n",
       "    }\n",
       "\n",
       "    .dataframe tbody tr th {\n",
       "        vertical-align: top;\n",
       "    }\n",
       "\n",
       "    .dataframe thead th {\n",
       "        text-align: right;\n",
       "    }\n",
       "</style>\n",
       "<table border=\"1\" class=\"dataframe\">\n",
       "  <thead>\n",
       "    <tr style=\"text-align: right;\">\n",
       "      <th>earl:impact</th>\n",
       "      <th>minor</th>\n",
       "      <th>serious</th>\n",
       "    </tr>\n",
       "    <tr>\n",
       "      <th>dc:publisher</th>\n",
       "      <th></th>\n",
       "      <th></th>\n",
       "    </tr>\n",
       "  </thead>\n",
       "  <tbody>\n",
       "    <tr>\n",
       "      <th>Standard Ebooks</th>\n",
       "      <td>20</td>\n",
       "      <td>1841</td>\n",
       "    </tr>\n",
       "  </tbody>\n",
       "</table>\n",
       "</div>"
      ],
      "text/plain": [
       "earl:impact      minor  serious\n",
       "dc:publisher                   \n",
       "Standard Ebooks     20     1841"
      ]
     },
     "execution_count": 18,
     "metadata": {},
     "output_type": "execute_result"
    }
   ],
   "source": [
    "ErrorsPerPublisher=medf2.groupby('dc:publisher')['earl:impact'].value_counts().unstack().fillna(0).astype(int)\n",
    "ErrorsPerPublisher"
   ]
  },
  {
   "cell_type": "code",
   "execution_count": 19,
   "id": "ee891d4a-e8c4-4555-a90e-25df4df23b4d",
   "metadata": {},
   "outputs": [
    {
     "data": {
      "text/plain": [
       "count       1.0\n",
       "mean     1861.0\n",
       "std         NaN\n",
       "min      1861.0\n",
       "25%      1861.0\n",
       "50%      1861.0\n",
       "75%      1861.0\n",
       "max      1861.0\n",
       "dtype: float64"
      ]
     },
     "execution_count": 19,
     "metadata": {},
     "output_type": "execute_result"
    }
   ],
   "source": [
    "ErrorsPerPublisher.sum(axis=1).describe()"
   ]
  }
 ],
 "metadata": {
  "kernelspec": {
   "display_name": "Python 3 (ipykernel)",
   "language": "python",
   "name": "python3"
  },
  "language_info": {
   "codemirror_mode": {
    "name": "ipython",
    "version": 3
   },
   "file_extension": ".py",
   "mimetype": "text/x-python",
   "name": "python",
   "nbconvert_exporter": "python",
   "pygments_lexer": "ipython3",
   "version": "3.11.0"
  },
  "vscode": {
   "interpreter": {
    "hash": "f4bc7a400e35f160b13ed52195005e41b219907c1be09b125a1c17e685484faa"
   }
  }
 },
 "nbformat": 4,
 "nbformat_minor": 5
}
